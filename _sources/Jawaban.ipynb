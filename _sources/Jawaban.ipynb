{
  "cells": [
    {
      "cell_type": "markdown",
      "metadata": {
        "id": "IG7qxIBafolo"
      },
      "source": [
        "## Jawaban\n",
        "\n",
        "### Soal 1\n",
        "\n",
        "Diketahui:\n",
        "\n",
        "$$\n",
        "A = \\begin{bmatrix} 1 & -1 \\\\ 2 & 3 \\end{bmatrix}, \\quad\n",
        "\\vec{x} = \\begin{bmatrix} 1 \\\\ 1 \\end{bmatrix}, \\quad\n",
        "\\vec{y} = \\begin{bmatrix} -1 \\\\ 2 \\end{bmatrix}\n",
        "$$\n",
        "\n",
        "Langkah-langkah:\n",
        "\n",
        "Lakukan perkalian matriks $A$ dengan vektor $\\vec{x}$:\n",
        "\n",
        "$$\n",
        "A\\vec{x} = \\begin{bmatrix} 1 & -1 \\\\ 2 & 3 \\end{bmatrix}\n",
        "\\begin{bmatrix} 1 \\\\ 1 \\end{bmatrix}\n",
        "= \\begin{bmatrix} 1(1) + (-1)(1) \\\\ 2(1) + 3(1) \\end{bmatrix}\n",
        "= \\begin{bmatrix} 0 \\\\ 5 \\end{bmatrix}\n",
        "$$\n",
        "\n",
        "Lanjutkan dengan perkalian matriks $A$ dengan vektor $\\vec{y}$:\n",
        "\n",
        "$$\n",
        "A\\vec{y} = \\begin{bmatrix} 1 & -1 \\\\ 2 & 3 \\end{bmatrix}\n",
        "\\begin{bmatrix} -1 \\\\ 2 \\end{bmatrix}\n",
        "= \\begin{bmatrix} 1(-1) + (-1)(2) \\\\ 2(-1) + 3(2) \\end{bmatrix}\n",
        "= \\begin{bmatrix} -3 \\\\ 4 \\end{bmatrix}\n",
        "$$\n"
      ]
    },
    {
      "cell_type": "code",
      "execution_count": null,
      "metadata": {
        "colab": {
          "base_uri": "https://localhost:8080/"
        },
        "id": "FVODiFNJMe3U",
        "outputId": "c2f83125-73b1-4329-e076-28b853d6e216"
      },
      "outputs": [
        {
          "name": "stdout",
          "output_type": "stream",
          "text": [
            "Hasil A * x:\n",
            "[[0]\n",
            " [5]]\n",
            "\n",
            "Hasil A * y:\n",
            "[[-3]\n",
            " [ 4]]\n"
          ]
        }
      ],
      "source": [
        "import numpy as np\n",
        "\n",
        "# Matriks dan vektor\n",
        "A = np.array([[1, -1],\n",
        "              [2,  3]])\n",
        "\n",
        "x = np.array([[1],\n",
        "              [1]])\n",
        "\n",
        "y = np.array([[-1],\n",
        "              [ 2]])\n",
        "\n",
        "# Perkalian matriks dengan vektor\n",
        "Ax = np.dot(A, x)\n",
        "Ay = np.dot(A, y)\n",
        "\n",
        "print(\"Hasil A * x:\")\n",
        "print(Ax)\n",
        "\n",
        "print(\"\\nHasil A * y:\")\n",
        "print(Ay)"
      ]
    },
    {
      "cell_type": "markdown",
      "metadata": {
        "id": "yJbHg91tMfVi"
      },
      "source": [
        "### Soal 2\n",
        "\n",
        "Diketahui:\n",
        "\n",
        "$$\n",
        "A = \\begin{bmatrix} 2 & 0 \\\\ -1 & 3 \\end{bmatrix}\n",
        "$$\n",
        "\n",
        "Langkah-langkah:\n",
        "\n",
        "Hitung $A\\vec{x}$:\n",
        "\n",
        "$$\n",
        "A\\vec{x} = \\begin{bmatrix} 2 & 0 \\\\ -1 & 3 \\end{bmatrix}\n",
        "\\begin{bmatrix} 1 \\\\ 1 \\end{bmatrix}\n",
        "= \\begin{bmatrix} 2(1) + 0(1) \\\\ -1(1) + 3(1) \\end{bmatrix}\n",
        "= \\begin{bmatrix} 2 \\\\ 2 \\end{bmatrix}\n",
        "$$\n",
        "\n",
        "Hitung $A\\vec{y}$:\n",
        "\n",
        "$$\n",
        "A\\vec{y} = \\begin{bmatrix} 2 & 0 \\\\ -1 & 3 \\end{bmatrix}\n",
        "\\begin{bmatrix} -1 \\\\ 2 \\end{bmatrix}\n",
        "= \\begin{bmatrix} 2(-1) + 0(2) \\\\ -1(-1) + 3(2) \\end{bmatrix}\n",
        "= \\begin{bmatrix} -2 \\\\ 7 \\end{bmatrix}\n",
        "$$\n"
      ]
    },
    {
      "cell_type": "code",
      "execution_count": null,
      "metadata": {
        "colab": {
          "base_uri": "https://localhost:8080/"
        },
        "id": "kFDZD9zqMhx_",
        "outputId": "365e9196-0dd1-4604-a4d8-855c38b91bbe"
      },
      "outputs": [
        {
          "name": "stdout",
          "output_type": "stream",
          "text": [
            "Hasil A * x:\n",
            "[[2]\n",
            " [2]]\n",
            "\n",
            "Hasil A * y:\n",
            "[[-2]\n",
            " [ 7]]\n"
          ]
        }
      ],
      "source": [
        "import numpy as np\n",
        "\n",
        "# Matriks dan vektor\n",
        "A = np.array([[ 2, 0],\n",
        "              [-1, 3]])\n",
        "\n",
        "x = np.array([[1],\n",
        "              [1]])\n",
        "\n",
        "y = np.array([[-1],\n",
        "              [ 2]])\n",
        "\n",
        "# Perkalian matriks dengan vektor\n",
        "Ax = np.dot(A, x)\n",
        "Ay = np.dot(A, y)\n",
        "\n",
        "print(\"Hasil A * x:\")\n",
        "print(Ax)\n",
        "\n",
        "print(\"\\nHasil A * y:\")\n",
        "print(Ay)"
      ]
    },
    {
      "cell_type": "markdown",
      "metadata": {
        "id": "60riFAlxMiLS"
      },
      "source": [
        "### Soal 5\n",
        "\n",
        "Diketahui transformasi vektor standar sebagai berikut:\n",
        "\n",
        "$$\n",
        "\\vec{i} = \\begin{bmatrix} 1 \\\\ 0 \\end{bmatrix} \\rightarrow \\begin{bmatrix} 1 \\\\ 2 \\end{bmatrix}, \\quad\n",
        "\\vec{j} = \\begin{bmatrix} 0 \\\\ 1 \\end{bmatrix} \\rightarrow \\begin{bmatrix} 0 \\\\ 2 \\end{bmatrix}\n",
        "$$\n",
        "\n",
        "Langkah-langkah\n",
        "\n",
        "Matriks transformasi $A$ dapat dibentuk dengan meletakkan hasil transformasi dari $\\vec{i}$ dan $\\vec{j}$ sebagai kolom-kolom dari matriks.\n",
        "\n",
        "- Kolom pertama adalah hasil transformasi dari $\\vec{i}$\n",
        "- Kolom kedua adalah hasil transformasi dari $\\vec{j}$\n",
        "\n",
        "\n",
        "$$\n",
        "A = \\left[ T(\\vec{i}) \\quad T(\\vec{j}) \\right]\n",
        "$$\n",
        "\n",
        "Substitusikan hasil transformasi:\n",
        "\n",
        "$$\n",
        "A = \\left[\n",
        "\\begin{array}{cc}\n",
        "1 & 0 \\\\\n",
        "2 & 2 \\\\\n",
        "\\end{array}\n",
        "\\right]\n",
        "$$\n",
        "\n",
        "Jadi, matriks transformasi yang sesuai adalah:\n",
        "\n",
        "$$\n",
        "A = \\begin{bmatrix}\n",
        "1 & 0 \\\\\n",
        "2 & 2\n",
        "\\end{bmatrix}\n",
        "$$\n"
      ]
    },
    {
      "cell_type": "code",
      "execution_count": null,
      "metadata": {
        "colab": {
          "base_uri": "https://localhost:8080/"
        },
        "id": "Oj1Z8LA6Mip9",
        "outputId": "428f7675-bcb2-4829-8deb-5315d0015a5b"
      },
      "outputs": [
        {
          "name": "stdout",
          "output_type": "stream",
          "text": [
            "Matriks transformasi A:\n",
            "[[1 0]\n",
            " [2 2]]\n"
          ]
        }
      ],
      "source": [
        "import numpy as np\n",
        "\n",
        "# Vektor standar (basis)\n",
        "i = np.array([1, 0])\n",
        "j = np.array([0, 1])\n",
        "\n",
        "# Hasil transformasi vektor\n",
        "Ti = np.array([1, 2])  # Transformasi dari i\n",
        "Tj = np.array([0, 2])  # Transformasi dari j\n",
        "\n",
        "# Matriks transformasi A dibentuk dari hasil transformasi vektor standar sebagai kolom\n",
        "A = np.column_stack((Ti, Tj))\n",
        "\n",
        "print(\"Matriks transformasi A:\")\n",
        "print(A)\n"
      ]
    },
    {
      "cell_type": "markdown",
      "metadata": {
        "id": "8fZ7xgPIMjQm"
      },
      "source": [
        "### Soal 6\n",
        "\n",
        "Diberikan sebuah sketsa transformasi dari unit square pada bidang koordinat. Diketahui bahwa titik asal berada di $(0,0)$, dan persegi satuan tersebut ditransformasikan menjadi jajaran genjang.\n",
        "\n",
        "- Tujuan kita adalah untuk menentukan matriks transformasi $A$ yang mentransformasikan persegi satuan tersebut.\n",
        "\n",
        "Langkah-langkah Penyelesaian\n",
        "\n",
        "- Transformasi linier dapat direpresentasikan dalam bentuk matriks $A$, yang memetakan:\n",
        "\n",
        "$$\n",
        "A \\vec{i} = \\text{vektor hasil dari } \\begin{bmatrix} 1 \\\\ 0 \\end{bmatrix}\n",
        "\\quad \\text{dan} \\quad\n",
        "A \\vec{j} = \\text{vektor hasil dari } \\begin{bmatrix} 0 \\\\ 1 \\end{bmatrix}\n",
        "$$\n",
        "\n",
        "Dari gambar, kita amati bahwa:\n",
        "\n",
        "$$\n",
        "\\vec{i} = \\begin{bmatrix} 1 \\\\ 0 \\end{bmatrix} \\rightarrow \\begin{bmatrix} 1 \\\\ 1 \\end{bmatrix}, \\quad\n",
        "\\vec{j} = \\begin{bmatrix} 0 \\\\ 1 \\end{bmatrix} \\rightarrow \\begin{bmatrix} -1 \\\\ 1 \\end{bmatrix}\n",
        "$$\n",
        "\n",
        "\n",
        "Maka, matriks transformasi $A$ adalah:\n",
        "\n",
        "$$\n",
        "A = \\begin{bmatrix}\n",
        "| & | \\\\\n",
        "A\\vec{i} & A\\vec{j} \\\\\n",
        "| & |\n",
        "\\end{bmatrix}\n",
        "=\n",
        "\\begin{bmatrix}\n",
        "1 & -1 \\\\\n",
        "1 & 1\n",
        "\\end{bmatrix}\n",
        "$$\n",
        "\n",
        "Jawaban Akhir\n",
        "\n",
        "$$\n",
        "A = \\begin{bmatrix}\n",
        "1 & -1 \\\\\n",
        "1 & 1\n",
        "\\end{bmatrix}\n",
        "$$\n",
        "\n"
      ]
    },
    {
      "cell_type": "code",
      "execution_count": null,
      "metadata": {
        "colab": {
          "base_uri": "https://localhost:8080/"
        },
        "id": "djK9W7RkMr43",
        "outputId": "1d30bd92-4382-425f-eec4-99580aa70251"
      },
      "outputs": [
        {
          "name": "stdout",
          "output_type": "stream",
          "text": [
            "Matriks transformasi A:\n",
            "[[ 1 -1]\n",
            " [ 1  1]]\n"
          ]
        }
      ],
      "source": [
        "import numpy as np\n",
        "\n",
        "# Definisi vektor basis awal\n",
        "i_vector = np.array([1, 0])  # vektor i awal\n",
        "j_vector = np.array([0, 1])  # vektor j awal\n",
        "\n",
        "# Transformasi vektor\n",
        "transformed_i = np.array([1, 1])  # hasil transformasi vektor i\n",
        "transformed_j = np.array([-1, 1])  # hasil transformasi vektor j\n",
        "\n",
        "# Matriks transformasi A\n",
        "A = np.column_stack((transformed_i, transformed_j))\n",
        "\n",
        "# Menampilkan hasil\n",
        "print(\"Matriks transformasi A:\")\n",
        "print(A)"
      ]
    }
  ],
  "metadata": {
    "colab": {
      "provenance": []
    },
    "kernelspec": {
      "display_name": "Python 3",
      "name": "python3"
    },
    "language_info": {
      "name": "python"
    }
  },
  "nbformat": 4,
  "nbformat_minor": 0
}
