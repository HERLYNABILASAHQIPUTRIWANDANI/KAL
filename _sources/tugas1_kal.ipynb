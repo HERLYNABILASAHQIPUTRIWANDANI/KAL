{
  "cells": [
    {
      "cell_type": "markdown",
      "metadata": {
        "id": "Q6lDrDun1ZxL"
      },
      "source": [
        "# TUGAS 1\n",
        "\n",
        "Diberikan transformasi:\n",
        "\n",
        "$$\n",
        "T(v_1, v_2) = (v_1 + v_2, v_1)\n",
        "$$\n",
        "\n",
        "Misalkan:\n",
        "\n",
        "$$\n",
        "\\mathbf{u} = (u_1, u_2), \\quad \\mathbf{v} = (v_1, v_2) \\in \\mathbb{R}^2, \\quad c \\in \\mathbb{R}\n",
        "$$\n",
        "\n",
        "1. Sifat Penjumlahan:\n",
        "\n",
        "$$ T(\\mathbf{u} + \\mathbf{v}) = T(\\mathbf{u}) + T(\\mathbf{v})$$\n",
        "\n",
        "Hitung:\n",
        "\n",
        "$$\n",
        "\\mathbf{u} + \\mathbf{v} = (u_1 + v_1, u_2 + v_2)\n",
        "$$\n",
        "\n",
        "$$\n",
        "T(\\mathbf{u} + \\mathbf{v}) = T(u_1 + v_1, u_2 + v_2) = ((u_1 + v_1) + (u_2 + v_2), u_1 + v_1) = (u_1 + u_2 + v_1 + v_2, u_1 + v_1)\n",
        "$$\n",
        "\n",
        "Hitung $T(\\mathbf{u}) + T(\\mathbf{v})$:\n",
        "\n",
        "$$\n",
        "T(\\mathbf{u}) = (u_1 + u_2, u_1), \\quad T(\\mathbf{v}) = (v_1 + v_2, v_1)\n",
        "$$\n",
        "\n",
        "$$\n",
        "T(\\mathbf{u}) + T(\\mathbf{v}) = (u_1 + u_2 + v_1 + v_2, u_1 + v_1)\n",
        "$$\n",
        "\n",
        "Karena\n",
        "$T(\\mathbf{u} + \\mathbf{v}) = T(\\mathbf{u}) + T(\\mathbf{v})$, maka sifat penjumlahan terpenuhi.\n",
        "\n",
        "\n",
        "2. Sifat Perkalian Skalar:\n",
        "\n",
        "$$T(c\\mathbf{u}) = cT(\\mathbf{u})$$\n",
        "\n",
        "Hitung:\n",
        "\n",
        "$$\n",
        "c\\mathbf{u} = (cu_1, cu_2)\n",
        "$$\n",
        "\n",
        "$$\n",
        "T(c\\mathbf{u}) = T(cu_1, cu_2) = (cu_1 + cu_2, cu_1)\n",
        "$$\n",
        "\n",
        "Hitung $cT(\\mathbf{u})$:\n",
        "\n",
        "$$\n",
        "T(\\mathbf{u}) = (u_1 + u_2, u_1)\n",
        "$$\n",
        "\n",
        "$$\n",
        "cT(\\mathbf{u}) = c(u_1 + u_2, u_1) = (c(u_1 + u_2), cu_1)\n",
        "$$\n",
        "\n",
        "Karena $cu_1 + cu_2 = c(u_1 + u_2)$, maka $T(c\\mathbf{u}) = cT(\\mathbf{u})$ dan sifat perkalian skalar terpenuhi.\n",
        "\n",
        "\n",
        "\n",
        "Karena transformasi $T$ memenuhi kedua sifat:\n",
        "\n",
        "$T(\\mathbf{u} + \\mathbf{v}) = T(\\mathbf{u}) + T(\\mathbf{v})$\n",
        "\n",
        "$T(c\\mathbf{u}) = cT(\\mathbf{u})$\n",
        "\n",
        "\n",
        "Maka,  \n",
        "\n",
        "$T(v_1, v_2) = (v_1 + v_2, v_1)$ adalah transformasi linier.\n",
        "\n",
        "\n"
      ]
    },
    {
      "cell_type": "code",
      "execution_count": null,
      "metadata": {
        "colab": {
          "base_uri": "https://localhost:8080/"
        },
        "id": "1yxa73VO5mAB",
        "outputId": "d5ac5419-87b1-4434-c67d-b5fb8c96afe4"
      },
      "outputs": [
        {
          "name": "stdout",
          "output_type": "stream",
          "text": [
            "Sifat 1 (T(u+v) == T(u) + T(v)): True\n",
            "Sifat 2 (T(cu) == c * T(u)): True\n"
          ]
        }
      ],
      "source": [
        "import numpy as np\n",
        "\n",
        "# Definisikan transformasi T\n",
        "def T(v):\n",
        "    v1, v2 = v\n",
        "    return np.array([v1 + v2, v1])\n",
        "\n",
        "# Misalkan dua vektor dan satu skalar\n",
        "u = np.array([2, 3])\n",
        "v = np.array([-1, 4])\n",
        "c = 5\n",
        "\n",
        "# Cek sifat 1: T(u + v) == T(u) + T(v)\n",
        "left1 = T(u + v)\n",
        "right1 = T(u) + T(v)\n",
        "print(\"Sifat 1 (T(u+v) == T(u) + T(v)):\", np.allclose(left1, right1))\n",
        "\n",
        "# Cek sifat 2: T(cu) == c * T(u)\n",
        "left2 = T(c * u)\n",
        "right2 = c * T(u)\n",
        "print(\"Sifat 2 (T(cu) == c * T(u)):\", np.allclose(left2, right2))\n"
      ]
    }
  ],
  "metadata": {
    "colab": {
      "provenance": []
    },
    "kernelspec": {
      "display_name": "Python 3",
      "name": "python3"
    },
    "language_info": {
      "name": "python"
    }
  },
  "nbformat": 4,
  "nbformat_minor": 0
}
