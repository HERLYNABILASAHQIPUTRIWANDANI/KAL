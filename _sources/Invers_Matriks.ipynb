{
  "cells": [
    {
      "cell_type": "markdown",
      "metadata": {
        "id": "NSSrBlK4bIZi"
      },
      "source": [
        "# **INVERS MATRIKS**\n",
        "## **Definisi Matriks Invers**\n",
        "Matriks invers adalah matriks yang, jika dikalikan dengan matriks asalnya, menghasilkan matriks identitas. Jika A adalah matriks persegi (memiliki jumlah baris dan kolom yang sama), maka invers dari A, yang ditulis sebagai $A^{-1}$, memenuhi:\n",
        "\n",
        "$$ A \\times A^{-1} = A^{-1} \\times A = I $$\n",
        "\n",
        "di mana $I$ adalah matriks identitas, yaitu matriks dengan elemen diagonal utama bernilai 1 dan elemen lainnya bernilai 0.\n",
        "\n",
        "\n",
        "## **Syarat Matriks Memiliki Invers**\n",
        "Suatu matriks $A$ bisa dibalik (memiliki invers) jika dan hanya jika:\n",
        "\n",
        "1. **Matriks Persegi**  \n",
        "   - Matriks harus memiliki jumlah baris dan kolom yang sama (matriks $n \\times n$).\n",
        "\n",
        "2. **Determinan Tidak Nol**  \n",
        "   - Determinan matriks tidak boleh nol ($\\det(A) \\neq 0$). Jika determinan nol, maka matriks disebut *singular* dan tidak memiliki invers.\n",
        "\n",
        "3. **Rang Matriks Sama dengan Ordo**  \n",
        "   - Rang (jumlah baris atau kolom yang tidak nol setelah eliminasi Gauss) dari matriks harus sama dengan ordo matriksnya ($\\text{rank}(A) = n$).\n",
        "\n",
        "Jika ketiga syarat ini terpenuhi, maka matriks memiliki invers, dan kita bisa menghitungnya menggunakan metode seperti:\n",
        "- Metode Adjoin\n",
        "- Metode Eliminasi Gauss-Jordan\n",
        "- Faktorisasi LU\n"
      ]
    },
    {
      "cell_type": "markdown",
      "metadata": {
        "id": "RkGtFQr8cYpl"
      },
      "source": [
        "## **Matriks 3 Persamaan**\n",
        "$$\n",
        "\\begin{cases}\n",
        "2x_1 - x_2 + 3x_3 = 2 \\\\\n",
        "x_1 + 2x_2 - 2x_3 = 1 \\\\\n",
        "3x_1 - 3x_2 + 4x_3 = 3\n",
        "\\end{cases}\n",
        "$$\n"
      ]
    },
    {
      "cell_type": "markdown",
      "metadata": {
        "id": "FQQ0hhBIdc5P"
      },
      "source": [
        "## **Langkah Penyelesaian**\n",
        "### **Langkah 1: Menuliskan Matriks Augmented [A | I]**\n",
        "Matriks yang diberikan adalah:\n",
        "\n",
        "$\n",
        "A =\n",
        "\\begin{bmatrix}\n",
        "2 & -1 & 3 \\\\\n",
        "1 & 2 & -2 \\\\\n",
        "3 & -3 & 4\n",
        "\\end{bmatrix}\n",
        "$\n",
        "\n",
        "Matriks identitas $( I )$ yang berukuran sama (3×3) adalah:\n",
        "\n",
        "$\n",
        "I =\n",
        "\\begin{bmatrix}\n",
        "1 & 0 & 0 \\\\\n",
        "0 & 1 & 0 \\\\\n",
        "0 & 0 & 1\n",
        "\\end{bmatrix}\n",
        "$\n",
        "\n",
        "Gabungkan kedua matriks tersebut menjadi matriks augmented $( [A | I] )$:\n",
        "\n",
        "$$\n",
        "\\begin{bmatrix}\n",
        "2  & -1  &  3  & |  1  &  0  &  0  \\\\\n",
        "1  &  2  & -2  & |  0  &  1  &  0  \\\\\n",
        "3  & -3  &  4  & |  0  &  0  &  1  \n",
        "\\end{bmatrix}\n",
        "$$\n",
        "\n",
        "Tujuan kita adalah mengubah bagian kiri menjadi matriks identitas, sehingga bagian kanan menjadi matriks invers.\n"
      ]
    },
    {
      "cell_type": "code",
      "execution_count": null,
      "metadata": {
        "colab": {
          "base_uri": "https://localhost:8080/"
        },
        "id": "G2qRNzR4d-S7",
        "outputId": "c36049be-49e9-430d-c763-1dfd56502c02"
      },
      "outputs": [
        {
          "name": "stdout",
          "output_type": "stream",
          "text": [
            "Langkah 1: Matriks Augmented [A | I]\n",
            "[[ 2. -1.  3.  1.  0.  0.]\n",
            " [ 1.  2. -2.  0.  1.  0.]\n",
            " [ 3. -3.  4.  0.  0.  1.]]\n",
            "\n",
            "\n"
          ]
        }
      ],
      "source": [
        "import numpy as np\n",
        "\n",
        "def print_matrix(title, M):\n",
        "    print(title)\n",
        "    print(np.array(M))\n",
        "    print(\"\\n\")\n",
        "\n",
        "# Langkah 1: Definisikan matriks A dan identitas I\n",
        "A = np.array([[2, -1, 3],\n",
        "              [1, 2, -2],\n",
        "              [3, -3, 4]], dtype=float)\n",
        "I = np.identity(3, dtype=float)\n",
        "augmented = np.hstack((A, I))\n",
        "print_matrix(\"Langkah 1: Matriks Augmented [A | I]\", augmented)"
      ]
    },
    {
      "cell_type": "markdown",
      "metadata": {
        "id": "SRxBQyoMeKkA"
      },
      "source": [
        "### **Langkah 2: Membuat Elemen (1,1) Menjadi 1**\n",
        "\n",
        "Elemen pertama pada baris pertama adalah 2, jadi kita bagi seluruh baris pertama dengan 2 agar elemen (1,1) menjadi 1:\n",
        "\n",
        "\n",
        "- Matriks Awal:\n",
        "\n",
        "\n",
        "$\n",
        "A =\n",
        "\\begin{bmatrix}\n",
        "2 & -1 & 3 & 1 & 0 & 0 \\\\\n",
        "1 & 2 & -2 & 0 & 1 & 0 \\\\\n",
        "3 & -3 & 4 & 0 & 0 & 1\n",
        "\\end{bmatrix}\n",
        "$\n",
        "\n",
        "\n",
        "\n",
        "- Menjadikan Elemen (1,1) = 1\n",
        "\n",
        "Gunakan operasi:\n",
        "\n",
        "$\n",
        "R_1 = \\frac{1}{2} R_1\n",
        "$\n",
        "\n",
        "Sehingga setiap elemen pada $( R_1 )$ berubah menjadi:\n",
        "\n",
        "$$\n",
        "\\begin{aligned}\n",
        "R_1(1,1) &= \\frac{2}{2} = 1 \\\\\n",
        "R_1(1,2) &= \\frac{-1}{2} = -\\frac{1}{2} \\\\\n",
        "R_1(1,3) &= \\frac{3}{2} \\\\\n",
        "R_1(1,4) &= \\frac{1}{2} \\\\\n",
        "R_1(1,5) &= \\frac{0}{2} = 0 \\\\\n",
        "R_1(1,6) &= \\frac{0}{2} = 0\n",
        "\\end{aligned}\n",
        "$$\n",
        "\n",
        "Matriks Setelah Operasi:\n",
        "\n",
        "$\n",
        "A =\n",
        "\\begin{bmatrix}\n",
        "1 & -\\frac{1}{2} & \\frac{3}{2} & \\frac{1}{2} & 0 & 0 \\\\\n",
        "1 & 2 & -2 & 0 & 1 & 0 \\\\\n",
        "3 & -3 & 4 & 0 & 0 & 1\n",
        "\\end{bmatrix}\n",
        "$\n",
        "\n",
        "\n"
      ]
    },
    {
      "cell_type": "code",
      "execution_count": 3,
      "metadata": {
        "colab": {
          "base_uri": "https://localhost:8080/"
        },
        "id": "2rEXj45KeNnl",
        "outputId": "13edbb55-9af6-4839-9ca0-fafb0924440f"
      },
      "outputs": [
        {
          "name": "stdout",
          "output_type": "stream",
          "text": [
            "Matriks setelah operasi:\n",
            "[[ 1.  -0.5  1.5  0.5  0.   0. ]\n",
            " [ 1.   2.  -2.   0.   1.   0. ]\n",
            " [ 3.  -3.   4.   0.   0.   1. ]]\n"
          ]
        }
      ],
      "source": [
        "import numpy as np\n",
        "\n",
        "# Matriks awal\n",
        "a = np.array([\n",
        "    [2, -1, 3, 1, 0, 0],\n",
        "    [1,  2, -2, 0, 1, 0],\n",
        "    [3, -3,  4, 0, 0, 1]\n",
        "], dtype=float)\n",
        "\n",
        "# Operasi: R1 = (1/2) * R1\n",
        "a[0] = a[0] / 2\n",
        "\n",
        "# Cetak hasil setelah operasi\n",
        "print(\"Matriks setelah operasi:\")\n",
        "print(a)"
      ]
    },
    {
      "cell_type": "markdown",
      "metadata": {
        "id": "KcUdY0b7eObY"
      },
      "source": [
        "### **Langkah 3: Membuat Elemen (2,1) dan (3,1) Menjadi 0**\n",
        "Supaya kolom pertama hanya memiliki angka 1 di posisi (1,1) dan nol di bawahnya, kita lakukan operasi baris berikut:\n",
        "\n",
        "$\n",
        "A =\n",
        "\\begin{bmatrix}\n",
        "1 & -\\frac{1}{2} & \\frac{3}{2} & \\frac{1}{2} & 0 & 0 \\\\\n",
        "1 & 2 & -2 & 0 & 1 & 0 \\\\\n",
        "3 & -3 & 4 & 0 & 0 & 1\n",
        "\\end{bmatrix}\n",
        "$\n",
        "\n",
        "\n",
        "\n",
        "- Menghilangkan Elemen (2,1)\n",
        "Gunakan operasi:\n",
        "$\n",
        "R_2 = R_2 - R_1\n",
        "$\n",
        "\n",
        "\n",
        "$$\n",
        "\\begin{aligned}\n",
        "R_2(1,1) &= 1 - 1 = 0 \\\\\n",
        "R_2(1,2) &= 2 - \\left(-\\frac{1}{2}\\right) = 2 + \\frac{1}{2} = \\frac{5}{2} \\\\\n",
        "R_2(1,3) &= -2 - \\frac{3}{2} = -\\frac{7}{2} \\\\\n",
        "R_2(1,4) &= 0 - \\frac{1}{2} = -\\frac{1}{2} \\\\\n",
        "R_2(1,5) &= 1 - 0 = 1 \\\\\n",
        "R_2(1,6) &= 0 - 0 = 0\n",
        "\\end{aligned}\n",
        "$$\n",
        "\n",
        "Sehingga baris kedua setelah operasi menjadi:\n",
        "\n",
        "$$\n",
        "\\begin{bmatrix}\n",
        "0 & \\frac{5}{2} & -\\frac{7}{2} & -\\frac{1}{2} & 1 & 0\n",
        "\\end{bmatrix}\n",
        "$$\n",
        "\n",
        "- Menghilangkan Elemen (3,1)\n",
        "Gunakan operasi:\n",
        "$\n",
        "R_3 = R_3 - 3R_1\n",
        "$\n",
        "\n",
        "$$\n",
        "\\begin{aligned}\n",
        "R_3(1,1) &= 3 - 3(1) = 0 \\\\\n",
        "R_3(1,2) &= -3 - 3\\left(-\\frac{1}{2}\\right) = -3 + \\frac{3}{2} = -\\frac{3}{2} \\\\\n",
        "R_3(1,3) &= 4 - 3\\left(\\frac{3}{2}\\right) = 4 - \\frac{9}{2} = -\\frac{1}{2} \\\\\n",
        "R_3(1,4) &= 0 - 3\\left(\\frac{1}{2}\\right) = -\\frac{3}{2} \\\\\n",
        "R_3(1,5) &= 0 - 3(0) = 0 \\\\\n",
        "R_3(1,6) &= 1 - 3(0) = 1\n",
        "\\end{aligned}\n",
        "$$\n",
        "\n",
        "Sehingga baris ketiga setelah operasi menjadi:\n",
        "\n",
        "$$\n",
        "\\begin{bmatrix}\n",
        "0 & -\\frac{3}{2} & -\\frac{1}{2} & -\\frac{3}{2} & 0 & 1\n",
        "\\end{bmatrix}\n",
        "$$\n",
        "\n",
        "- Matriks Setelah Operasi\n",
        "\n",
        "$$\n",
        "\\begin{bmatrix}\n",
        "1 & -\\frac{1}{2} & \\frac{3}{2} & \\frac{1}{2} & 0 & 0 \\\\\n",
        "0 & \\frac{5}{2} & -\\frac{7}{2} & -\\frac{1}{2} & 1 & 0 \\\\\n",
        "0 & -\\frac{3}{2} & -\\frac{1}{2} & -\\frac{3}{2} & 0 & 1\n",
        "\\end{bmatrix}\n",
        "$$\n"
      ]
    },
    {
      "cell_type": "code",
      "execution_count": 6,
      "metadata": {
        "colab": {
          "base_uri": "https://localhost:8080/"
        },
        "id": "shC78gsaeOyi",
        "outputId": "5ed53968-7690-425d-b77a-b456a23d6880"
      },
      "outputs": [
        {
          "name": "stdout",
          "output_type": "stream",
          "text": [
            "Matriks awal:\n",
            "[[ 1.  -0.5  1.5  0.5  0.   0. ]\n",
            " [ 1.   2.  -2.   0.   1.   0. ]\n",
            " [ 3.  -3.   4.   0.   0.   1. ]]\n",
            "\n",
            "Matriks setelah operasi baris:\n",
            "[[ 1.  -0.5  1.5  0.5  0.   0. ]\n",
            " [ 0.   2.5 -3.5 -0.5  1.   0. ]\n",
            " [ 0.  -1.5 -0.5 -1.5  0.   1. ]]\n"
          ]
        }
      ],
      "source": [
        "import numpy as np\n",
        "\n",
        "# Matriks awal (gabungan matriks A dan identitas I)\n",
        "A = np.array([\n",
        "    [1, -1/2, 3/2, 1/2, 0, 0],\n",
        "    [1, 2, -2, 0, 1, 0],\n",
        "    [3, -3, 4, 0, 0, 1]\n",
        "], dtype=float)\n",
        "\n",
        "print(\"Matriks awal:\")\n",
        "print(A)\n",
        "\n",
        "# Menghilangkan elemen (2,1): R2 = R2 - R1\n",
        "A[1] = A[1] - A[0]\n",
        "\n",
        "# Menghilangkan elemen (3,1): R3 = R3 - 3R1\n",
        "A[2] = A[2] - 3 * A[0]\n",
        "\n",
        "print(\"\\nMatriks setelah operasi baris:\")\n",
        "print(A)"
      ]
    },
    {
      "cell_type": "markdown",
      "metadata": {
        "id": "TSU7XwUqePTI"
      },
      "source": [
        "### **Langkah 4: Membuat Elemen (2,2) Menjadi 1**\n",
        "\n",
        "\n",
        "Matriks sebelum operasi:\n",
        "\n",
        "$$\n",
        "A =\n",
        "\\begin{bmatrix}\n",
        "1 & -\\frac{1}{2} & \\frac{3}{2} & \\frac{1}{2} & 0 & 0 \\\\\n",
        "0 & \\frac{5}{2} & -\\frac{7}{2} & -\\frac{1}{2} & 1 & 0 \\\\\n",
        "0 & -\\frac{3}{2} & -\\frac{1}{2} & -\\frac{3}{2} & 0 & 1\n",
        "\\end{bmatrix}\n",
        "$$\n",
        "\n",
        "Untuk membuat elemen $(2,2)$ menjadi 1, kita bagi seluruh baris ke-2 dengan nilai elemen $(2,2)$, yaitu $\\frac{5}{2}$.\n",
        "\n",
        "Operasi yang dilakukan:\n",
        "$\n",
        "R_2 = \\frac{R_2}{\\frac{5}{2}}\n",
        "$\n",
        "\n",
        "Perhitungan untuk baris ke-2:\n",
        "\n",
        "$$\n",
        "\\begin{aligned}\n",
        "R_2(1,2) &= \\frac{5}{2} \\times \\frac{2}{5} = 1 \\\\\n",
        "R_2(1,3) &= -\\frac{7}{2} \\times \\frac{2}{5} = -\\frac{14}{10} = -\\frac{7}{5} \\\\\n",
        "R_2(1,4) &= -\\frac{1}{2} \\times \\frac{2}{5} = -\\frac{2}{10} = -\\frac{1}{5} \\\\\n",
        "R_2(1,5) &= 1 \\times \\frac{2}{5} = \\frac{2}{5} \\\\\n",
        "R_2(1,6) &= 0 \\times \\frac{2}{5} = 0\n",
        "\\end{aligned}\n",
        "$$\n",
        "\n",
        "Matriks setelah operasi:\n",
        "\n",
        "$$\n",
        "A =\n",
        "\\begin{bmatrix}\n",
        "1 & -\\frac{1}{2} & \\frac{3}{2} & \\frac{1}{2} & 0 & 0 \\\\\n",
        "0 & 1 & -\\frac{7}{5} & -\\frac{1}{5} & \\frac{2}{5} & 0 \\\\\n",
        "0 & -\\frac{3}{2} & -\\frac{1}{2} & -\\frac{3}{2} & 0 & 1\n",
        "\\end{bmatrix}\n",
        "$$\n",
        "\n"
      ]
    },
    {
      "cell_type": "code",
      "execution_count": 7,
      "metadata": {
        "colab": {
          "base_uri": "https://localhost:8080/"
        },
        "id": "9d6qO18eedQw",
        "outputId": "7b2d8aa4-004a-4f22-cbef-7b0f878cda30"
      },
      "outputs": [
        {
          "name": "stdout",
          "output_type": "stream",
          "text": [
            "Matriks setelah langkah 4:\n",
            "[[ 1.  -0.5  1.5  0.5  0.   0. ]\n",
            " [ 0.   1.  -1.4 -0.2  0.4  0. ]\n",
            " [ 0.  -1.5 -0.5 -1.5  0.   1. ]]\n"
          ]
        }
      ],
      "source": [
        "import numpy as np\n",
        "\n",
        "# Matriks awal setelah langkah 3\n",
        "A = np.array([\n",
        "    [1, -1/2,  3/2,  1/2,  0, 0],\n",
        "    [0,  5/2, -7/2, -1/2,  1, 0],\n",
        "    [0, -3/2, -1/2, -3/2,  0, 1]\n",
        "], dtype=np.float64)\n",
        "\n",
        "# Membagi baris ke-2 dengan elemen (2,2) untuk membuatnya menjadi 1\n",
        "A[1] = A[1] / A[1, 1]\n",
        "\n",
        "# Cetak hasil matriks setelah operasi\n",
        "np.set_printoptions(suppress=True, precision=5)  # Supaya tampilan lebih rapi\n",
        "print(\"Matriks setelah langkah 4:\")\n",
        "print(A)\n"
      ]
    },
    {
      "cell_type": "markdown",
      "metadata": {
        "id": "j5FT35-qfLWI"
      },
      "source": [
        "### **Langkah 5: Membuat Elemen (1,2) dan (3,2) Menjadi 0**\n",
        "\n",
        "Pada langkah ini, kita akan mengubah elemen pada posisi $(1,2)$ dan $(3,2)$ menjadi nol, agar kolom ke-2 hanya memiliki angka 1 di posisi  $(2,2)$ dan nol di atas serta di bawahnya.\n",
        "\n",
        "- Matriks Sebelum Operasi\n",
        "\n",
        "$$\n",
        "A =\n",
        "\\begin{bmatrix}\n",
        "1 & -\\frac{1}{2} & \\frac{3}{2} & \\frac{1}{2} & 0 & 0 \\\\\n",
        "0 & 1 & -\\frac{7}{5} & -\\frac{1}{5} & \\frac{2}{5} & 0 \\\\\n",
        "0 & -\\frac{3}{2} & -\\frac{1}{2} & -\\frac{3}{2} & 0 & 1\n",
        "\\end{bmatrix}\n",
        "$$\n",
        "\n",
        "\n",
        "- Menghilangkan Elemen (1,2)\n",
        "\n",
        "Gunakan operasi baris:\n",
        "\n",
        "$\n",
        "R_1 = R_1 + \\frac{1}{2} R_2\n",
        "$\n",
        "\n",
        "Perhitungan setiap elemen pada baris pertama:\n",
        "\n",
        "$$\n",
        "\\begin{aligned}\n",
        "R_1(1,1) &= 1 + \\frac{1}{2} (0) = 1 \\\\\n",
        "R_1(1,2) &= -\\frac{1}{2} + \\frac{1}{2} (1) = 0 \\\\\n",
        "R_1(1,3) &= \\frac{3}{2} + \\frac{1}{2} (-\\frac{7}{5}) = \\frac{4}{5} \\\\\n",
        "R_1(1,4) &= \\frac{1}{2} + \\frac{1}{2} (-\\frac{1}{5}) = \\frac{2}{5} \\\\\n",
        "R_1(1,5) &= 0 + \\frac{1}{2} (\\frac{2}{5}) = \\frac{1}{5} \\\\\n",
        "R_1(1,6) &= 0 + \\frac{1}{2} (0) = 0\n",
        "\\end{aligned}\n",
        "$$\n",
        "\n",
        "Hasil baris pertama setelah operasi:\n",
        "\n",
        "$$\n",
        "\\begin{bmatrix} 1 & 0 & \\frac{4}{5} & \\frac{2}{5} & \\frac{1}{5} & 0 \\end{bmatrix}\n",
        "$$\n",
        "\n",
        "- Menghilangkan Elemen (3,2)\n",
        "\n",
        "Gunakan operasi baris:\n",
        "\n",
        "$\n",
        "R_3 = R_3 + \\frac{3}{2} R_2\n",
        "$\n",
        "\n",
        "Perhitungan setiap elemen pada baris ketiga:\n",
        "\n",
        "$$\n",
        "\\begin{aligned}\n",
        "R_3(3,1) &= 0 + \\frac{3}{2} (0) = 0 \\\\\n",
        "R_3(3,2) &= -\\frac{3}{2} + \\frac{3}{2} (1) = 0 \\\\\n",
        "R_3(3,3) &= -\\frac{1}{2} + \\frac{3}{2} (-\\frac{7}{5}) = -\\frac{13}{5} \\\\\n",
        "R_3(3,4) &= -\\frac{3}{2} + \\frac{3}{2} (-\\frac{1}{5}) = -\\frac{9}{5} \\\\\n",
        "R_3(3,5) &= 0 + \\frac{3}{2} (\\frac{2}{5}) = \\frac{3}{5} \\\\\n",
        "R_3(3,6) &= 1 + \\frac{3}{2} (0) = 1\n",
        "\\end{aligned}\n",
        "$$\n",
        "\n",
        "Hasil baris ketiga setelah operasi:\n",
        "\n",
        "$$\n",
        "\\begin{bmatrix} 0 & 0 & -\\frac{13}{5} & -\\frac{9}{5} & \\frac{3}{5} & 1 \\end{bmatrix}\n",
        "$$\n",
        "\n",
        "Sehingga matriks setelah langkah ini menjadi:\n",
        "\n",
        "$$\n",
        "\\begin{bmatrix}\n",
        "1 & 0 & \\frac{4}{5} & \\frac{2}{5} & \\frac{1}{5} & 0 \\\\\n",
        "0 & 1 & -\\frac{7}{5} & -\\frac{1}{5} & \\frac{2}{5} & 0 \\\\\n",
        "0 & 0 & -\\frac{13}{5} & -\\frac{9}{5} & \\frac{3}{5} & 1\n",
        "\\end{bmatrix}\n",
        "$$"
      ]
    },
    {
      "cell_type": "code",
      "execution_count": 8,
      "metadata": {
        "colab": {
          "base_uri": "https://localhost:8080/"
        },
        "id": "Iyw1EMpkfMAD",
        "outputId": "3c08379c-ef96-45ff-a6ee-364983f1a46e"
      },
      "outputs": [
        {
          "name": "stdout",
          "output_type": "stream",
          "text": [
            "Matriks setelah Langkah 5:\n",
            "[[ 1.   0.   0.8  0.4  0.2  0. ]\n",
            " [ 0.   1.  -1.4 -0.2  0.4  0. ]\n",
            " [ 0.   0.  -2.6 -1.8  0.6  1. ]]\n"
          ]
        }
      ],
      "source": [
        "import numpy as np\n",
        "\n",
        "# Matriks awal sebelum langkah 5\n",
        "A = np.array([\n",
        "    [1, -1/2,  3/2,  1/2,  0, 0],\n",
        "    [0,  1,   -7/5, -1/5,  2/5, 0],\n",
        "    [0, -3/2, -1/2, -3/2,  0, 1]\n",
        "], dtype=float)\n",
        "\n",
        "# Operasi untuk membuat elemen (1,2) menjadi 0\n",
        "A[0] = A[0] + (1/2) * A[1]\n",
        "\n",
        "# Operasi untuk membuat elemen (3,2) menjadi 0\n",
        "A[2] = A[2] + (3/2) * A[1]\n",
        "\n",
        "# Menampilkan hasil setelah langkah 5\n",
        "print(\"Matriks setelah Langkah 5:\")\n",
        "print(A)"
      ]
    },
    {
      "cell_type": "markdown",
      "metadata": {
        "id": "2lO3PAJWfMnT"
      },
      "source": [
        "\n",
        "### **Langkah 6: Membuat Elemen (3,3) Menjadi 1**\n",
        "\n",
        "Untuk membuat elemen $(3,3)$ menjadi 1, kita bagi seluruh baris ketiga ($R_3$) dengan elemen $(3,3)$ yang bernilai $-\\frac{13}{5}$:\n",
        "\n",
        "$\n",
        "R_3 = R_3 \\div \\left(-\\frac{13}{5}\\right)\n",
        "$\n",
        "\n",
        "$$\n",
        "\\begin{aligned}\n",
        "R_3(3,3) &= \\frac{-13}{5} \\div \\left(-\\frac{13}{5}\\right) = 1 \\\\  \n",
        "R_3(3,4) &= \\frac{-9}{5} \\div \\left(-\\frac{13}{5}\\right) = \\frac{9}{13} \\\\  \n",
        "R_3(3,5) &= \\frac{3}{5} \\div \\left(-\\frac{13}{5}\\right) = -\\frac{3}{13} \\\\  \n",
        "R_3(3,6) &= 1 \\div \\left(-\\frac{13}{5}\\right) = -\\frac{5}{13}  \n",
        "\\end{aligned}\n",
        "$$\n",
        "\n",
        "Sehingga matriks setelah langkah ini menjadi:\n",
        "\n",
        "$$\n",
        "\\begin{bmatrix}\n",
        "1 & 0 & \\frac{4}{5} & \\frac{2}{5} & \\frac{1}{5} & 0 \\\\\n",
        "0 & 1 & -\\frac{7}{5} & -\\frac{1}{5} & \\frac{2}{5} & 0 \\\\\n",
        "0 & 0 & 1 & \\frac{9}{13} & -\\frac{3}{13} & -\\frac{5}{13}\n",
        "\\end{bmatrix}\n",
        "$$\n"
      ]
    },
    {
      "cell_type": "code",
      "execution_count": 9,
      "metadata": {
        "colab": {
          "base_uri": "https://localhost:8080/"
        },
        "id": "cD-nDmo5fNEf",
        "outputId": "2a1ea5f5-1d01-4192-c3a0-585a2662f449"
      },
      "outputs": [
        {
          "name": "stdout",
          "output_type": "stream",
          "text": [
            "Matriks setelah Langkah 6:\n",
            "[[ 1.       0.       0.8      0.4      0.2      0.     ]\n",
            " [ 0.       1.      -1.4     -0.2      0.4      0.     ]\n",
            " [-0.      -0.       1.       0.69231 -0.23077 -0.38462]]\n"
          ]
        }
      ],
      "source": [
        "import numpy as np\n",
        "\n",
        "# Matriks setelah langkah 5\n",
        "A = np.array([\n",
        "    [1, 0, 4/5, 2/5, 1/5, 0],\n",
        "    [0, 1, -7/5, -1/5, 2/5, 0],\n",
        "    [0, 0, -13/5, -9/5, 3/5, 1]\n",
        "], dtype=float)\n",
        "\n",
        "# Membagi baris ke-3 dengan elemen (3,3) agar menjadi 1\n",
        "A[2] = A[2] / A[2, 2]\n",
        "\n",
        "print(\"Matriks setelah Langkah 6:\")\n",
        "print(A)"
      ]
    },
    {
      "cell_type": "markdown",
      "metadata": {
        "id": "LeyCcYkKfNlz"
      },
      "source": [
        "### **Langkah 7: Membuat Elemen (1,3) dan (2,3) Menjadi 0**\n",
        "\n",
        "Untuk membuat elemen $(1,3)$ dan $(2,3)$ menjadi nol, kita gunakan operasi:\n",
        "\n",
        "$\n",
        "R_1 = R_1 - \\left(\\frac{4}{5} R_3 \\right)\n",
        "$\n",
        "\n",
        "$\n",
        "R_2 = R_2 + \\left(\\frac{7}{5} R_3 \\right)\n",
        "$\n",
        "\n",
        "- Perhitungan untuk $R_1$:\n",
        "\n",
        "$$\n",
        "\\begin{aligned}\n",
        "R_1(1,3) &= \\frac{4}{5} - \\frac{4}{5} (1) = 0 \\\\  \n",
        "R_1(1,4) &= \\frac{2}{5} - \\frac{4}{5} \\times \\frac{9}{13} = \\frac{2}{13} \\\\  \n",
        "R_1(1,5) &= \\frac{1}{5} - \\frac{4}{5} \\times \\frac{-3}{13} = \\frac{17}{65} \\\\  \n",
        "R_1(1,6) &= 0 - \\frac{4}{5} \\times \\frac{-5}{13} = \\frac{4}{13}  \n",
        "\\end{aligned}\n",
        "$$\n",
        "\n",
        "Sehingga baris pertama setelah operasi menjadi:\n",
        "\n",
        "$$\n",
        "\\begin{bmatrix}\n",
        "1 & 0 & 0 & \\frac{2}{13} & \\frac{17}{65} & \\frac{4}{13}\n",
        "\\end{bmatrix}\n",
        "$$\n",
        "\n",
        "- Perhitungan untuk $R_2$:\n",
        "\n",
        "$$\n",
        "\\begin{aligned}\n",
        "R_2(1,3) &= -\\frac{7}{5} + \\frac{7}{5} (1) = 0 \\\\  \n",
        "R_2(1,4) &= -\\frac{1}{5} + \\frac{7}{5} \\times \\frac{9}{13} = \\frac{10}{13} \\\\  \n",
        "R_2(1,5) &= \\frac{2}{5} + \\frac{7}{5} \\times \\frac{-3}{13} = \\frac{1}{13} \\\\  \n",
        "R_2(1,6) &= 0 + \\frac{7}{5} \\times \\frac{-5}{13} = -\\frac{7}{13}\n",
        "\\end{aligned}\n",
        "$$\n",
        "\n",
        "Sehingga baris kedua setelah operasi menjadi:\n",
        "\n",
        "$$\n",
        "\\begin{bmatrix}\n",
        "0 & 1 & 0 & \\frac{10}{13} & \\frac{1}{13} & -\\frac{7}{13}\n",
        "\\end{bmatrix}\n",
        "$$\n",
        "\n",
        "\n",
        "\n",
        "Matriks Setelah Langkah 7\n",
        "\n",
        "$$\n",
        "\\begin{bmatrix}\n",
        "1 & 0 & 0 & \\frac{2}{13} & \\frac{17}{65} & \\frac{4}{13} \\\\\n",
        "0 & 1 & 0 & \\frac{10}{13} & \\frac{1}{13} & -\\frac{7}{13} \\\\\n",
        "0 & 0 & 1 & \\frac{9}{13} & -\\frac{3}{13} & -\\frac{5}{13}\n",
        "\\end{bmatrix}\n",
        "$$\n",
        "\n",
        "Matriks ini menunjukkan bahwa kita telah mendapatkan matriks identitas di sebelah kiri, sehingga matriks di sebelah kanan adalah invers dari matriks awal.\n",
        "\n",
        "\n"
      ]
    },
    {
      "cell_type": "code",
      "execution_count": 10,
      "metadata": {
        "colab": {
          "base_uri": "https://localhost:8080/"
        },
        "id": "Vv87MOxIfOGX",
        "outputId": "c80f8cdc-4af4-47e1-d7b7-a148fe0c1e54"
      },
      "outputs": [
        {
          "name": "stdout",
          "output_type": "stream",
          "text": [
            "Matriks setelah Langkah 7:\n",
            "[[ 1.       0.       0.      -0.15385  0.38462  0.30769]\n",
            " [ 0.       1.       0.       0.76923  0.07692 -0.53846]\n",
            " [-0.      -0.       1.       0.69231 -0.23077 -0.38462]]\n"
          ]
        }
      ],
      "source": [
        "# Eliminasi elemen (1,3) dan (2,3) agar menjadi nol\n",
        "A[0] = A[0] - A[0, 2] * A[2]\n",
        "A[1] = A[1] - A[1, 2] * A[2]\n",
        "\n",
        "print(\"Matriks setelah Langkah 7:\")\n",
        "print(A)"
      ]
    }
  ],
  "metadata": {
    "colab": {
      "provenance": []
    },
    "kernelspec": {
      "display_name": "Python 3",
      "name": "python3"
    },
    "language_info": {
      "name": "python"
    }
  },
  "nbformat": 4,
  "nbformat_minor": 0
}
