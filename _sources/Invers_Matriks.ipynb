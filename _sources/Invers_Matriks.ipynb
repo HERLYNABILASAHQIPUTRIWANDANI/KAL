{
  "nbformat": 4,
  "nbformat_minor": 0,
  "metadata": {
    "colab": {
      "provenance": []
    },
    "kernelspec": {
      "name": "python3",
      "display_name": "Python 3"
    },
    "language_info": {
      "name": "python"
    }
  },
  "cells": [
    {
      "cell_type": "markdown",
      "source": [
        "# **INVERS MATRIKS**\n",
        "## **Definisi Matriks Invers**\n",
        "Matriks invers adalah matriks yang, jika dikalikan dengan matriks asalnya, menghasilkan matriks identitas. Jika A adalah matriks persegi (memiliki jumlah baris dan kolom yang sama), maka invers dari A, yang ditulis sebagai $A^{-1}$, memenuhi:\n",
        "\n",
        "$$ A \\times A^{-1} = A^{-1} \\times A = I $$\n",
        "\n",
        "di mana $I$ adalah matriks identitas, yaitu matriks dengan elemen diagonal utama bernilai 1 dan elemen lainnya bernilai 0.\n",
        "\n",
        "\n",
        "## **Syarat Matriks Memiliki Invers**\n",
        "Suatu matriks $A$ bisa dibalik (memiliki invers) jika dan hanya jika:\n",
        "\n",
        "1. **Matriks Persegi**  \n",
        "   - Matriks harus memiliki jumlah baris dan kolom yang sama (matriks $n \\times n$).\n",
        "\n",
        "2. **Determinan Tidak Nol**  \n",
        "   - Determinan matriks tidak boleh nol ($\\det(A) \\neq 0$). Jika determinan nol, maka matriks disebut *singular* dan tidak memiliki invers.\n",
        "\n",
        "3. **Rang Matriks Sama dengan Ordo**  \n",
        "   - Rang (jumlah baris atau kolom yang tidak nol setelah eliminasi Gauss) dari matriks harus sama dengan ordo matriksnya ($\\text{rank}(A) = n$).\n",
        "\n",
        "Jika ketiga syarat ini terpenuhi, maka matriks memiliki invers, dan kita bisa menghitungnya menggunakan metode seperti:\n",
        "- Metode Adjoin\n",
        "- Metode Eliminasi Gauss-Jordan\n",
        "- Faktorisasi LU\n"
      ],
      "metadata": {
        "id": "NSSrBlK4bIZi"
      }
    },
    {
      "cell_type": "markdown",
      "source": [
        "## **Matriks 3 Persamaan**\n",
        "$$\n",
        "\\begin{cases}\n",
        "2x_1 - x_2 + 3x_3 = 2 \\\\\n",
        "x_1 + 2x_2 - 2x_3 = 1 \\\\\n",
        "3x_1 - 3x_2 + 4x_3 = 3\n",
        "\\end{cases}\n",
        "$$\n"
      ],
      "metadata": {
        "id": "RkGtFQr8cYpl"
      }
    },
    {
      "cell_type": "markdown",
      "source": [
        "## **Langkah Penyelesaian**\n",
        "### **Langkah 1: Menuliskan Matriks Augmented [A | I]**\n",
        "Matriks yang diberikan adalah:\n",
        "\\\n",
        "A =\n",
        "\\begin{bmatrix}\n",
        "2 & -1 & 3 \\\\\n",
        "1 & 2 & -2 \\\\\n",
        "3 & -3 & 4\n",
        "\\end{bmatrix}\n",
        "\n",
        "\n",
        "Matriks identitas \\( I \\) yang berukuran sama (3×3) adalah:\n",
        "\n",
        "I =\n",
        "\\begin{bmatrix}\n",
        "1 & 0 & 0 \\\\\n",
        "0 & 1 & 0 \\\\\n",
        "0 & 0 & 1\n",
        "\\end{bmatrix}\n",
        "\\\n",
        "Gabungkan kedua matriks tersebut menjadi matriks augmented \\( [A | I] \\):\n",
        "\n",
        "\n",
        "\\begin{bmatrix}\n",
        "2  & -1  &  3  & |  1  &  0  &  0  \\\\\n",
        "1  &  2  & -2  & |  0  &  1  &  0  \\\\\n",
        "3  & -3  &  4  & |  0  &  0  &  1  \n",
        "\\end{bmatrix}\n",
        "\n",
        "\n",
        "Tujuan kita adalah mengubah bagian kiri menjadi matriks identitas, sehingga bagian kanan menjadi matriks invers.\n"
      ],
      "metadata": {
        "id": "FQQ0hhBIdc5P"
      }
    },
    {
      "cell_type": "code",
      "source": [
        "import numpy as np\n",
        "\n",
        "def print_matrix(title, M):\n",
        "    print(title)\n",
        "    print(np.array(M))\n",
        "    print(\"\\n\")\n",
        "\n",
        "# Langkah 1: Definisikan matriks A dan identitas I\n",
        "A = np.array([[2, -1, 3],\n",
        "              [1, 2, -2],\n",
        "              [3, -3, 4]], dtype=float)\n",
        "I = np.identity(3, dtype=float)\n",
        "augmented = np.hstack((A, I))\n",
        "print_matrix(\"Langkah 1: Matriks Augmented [A | I]\", augmented)"
      ],
      "metadata": {
        "colab": {
          "base_uri": "https://localhost:8080/"
        },
        "id": "G2qRNzR4d-S7",
        "outputId": "c36049be-49e9-430d-c763-1dfd56502c02"
      },
      "execution_count": 10,
      "outputs": [
        {
          "output_type": "stream",
          "name": "stdout",
          "text": [
            "Langkah 1: Matriks Augmented [A | I]\n",
            "[[ 2. -1.  3.  1.  0.  0.]\n",
            " [ 1.  2. -2.  0.  1.  0.]\n",
            " [ 3. -3.  4.  0.  0.  1.]]\n",
            "\n",
            "\n"
          ]
        }
      ]
    },
    {
      "cell_type": "markdown",
      "source": [
        "### **Langkah 2: Membuat Elemen (1,1) Menjadi 1**\n",
        "\n",
        "Elemen pertama pada baris pertama adalah 2, jadi kita bagi seluruh baris pertama dengan 2 agar elemen (1,1) menjadi 1:\n",
        "\n",
        "$$\n",
        "R_1 = \\frac{1}{2} R_1\n",
        "$$\n",
        "\n",
        "\n",
        "Hasilnya:\n",
        "\n",
        "\n",
        "\\begin{bmatrix}\n",
        "1  & -\\frac{1}{2}  &  \\frac{3}{2}  & |  \\frac{1}{2}  &  0  &  0  \\\\\n",
        "1  &  2  & -2  & |  0  &  1  &  0  \\\\\n",
        "3  & -3  &  4  & |  0  &  0  &  1  \n",
        "\\end{bmatrix}\n",
        "\n",
        "\n"
      ],
      "metadata": {
        "id": "SRxBQyoMeKkA"
      }
    },
    {
      "cell_type": "code",
      "source": [
        "# Langkah 2: Membuat elemen (1,1) menjadi 1\n",
        "augmented[0] = augmented[0] / augmented[0, 0]\n",
        "print_matrix(\"Langkah 2: Membuat elemen (1,1) menjadi 1\", augmented)"
      ],
      "metadata": {
        "colab": {
          "base_uri": "https://localhost:8080/"
        },
        "id": "2rEXj45KeNnl",
        "outputId": "6d6dbb39-cc13-440c-9956-420b5734f7a6"
      },
      "execution_count": 11,
      "outputs": [
        {
          "output_type": "stream",
          "name": "stdout",
          "text": [
            "Langkah 2: Membuat elemen (1,1) menjadi 1\n",
            "[[ 1.  -0.5  1.5  0.5  0.   0. ]\n",
            " [ 1.   2.  -2.   0.   1.   0. ]\n",
            " [ 3.  -3.   4.   0.   0.   1. ]]\n",
            "\n",
            "\n"
          ]
        }
      ]
    },
    {
      "cell_type": "markdown",
      "source": [
        "### **Langkah 3: Membuat Elemen (2,1) dan (3,1) Menjadi 0**\n",
        "Supaya kolom pertama hanya memiliki angka 1 di posisi (1,1) dan nol di bawahnya, kita lakukan operasi baris berikut:\n",
        "\n",
        "- Untuk menghilangkan angka 1 di posisi (2,1):\n",
        "\n",
        "$$\n",
        "R_2 = R_2 - R_1\n",
        "$$\n",
        "\n",
        "- Untuk menghilangkan angka 3 di posisi (3,1):\n",
        "\n",
        "$$\n",
        "R_3 = R_3 - 3R_1\n",
        "$$\n",
        "\n",
        "\n",
        "Setelah operasi ini:\n",
        "\n",
        "\n",
        "\\begin{bmatrix}\n",
        "1  & -\\frac{1}{2}  &  \\frac{3}{2}  & |  \\frac{1}{2}  &  0  &  0  \\\\\n",
        "0  &  \\frac{5}{2}  & -\\frac{7}{2}  & |  -\\frac{1}{2}  &  1  &  0  \\\\\n",
        "0  & -\\frac{3}{2}  &  \\frac{5}{2}  & |  -\\frac{3}{2}  &  0  &  1  \n",
        "\\end{bmatrix}\n",
        "\n"
      ],
      "metadata": {
        "id": "KcUdY0b7eObY"
      }
    },
    {
      "cell_type": "code",
      "source": [
        "# Langkah 3: Membuat elemen (2,1) dan (3,1) menjadi 0\n",
        "augmented[1] = augmented[1] - augmented[1, 0] * augmented[0]\n",
        "augmented[2] = augmented[2] - augmented[2, 0] * augmented[0]\n",
        "print_matrix(\"Langkah 3: Membuat elemen (2,1) dan (3,1) menjadi 0\", augmented)"
      ],
      "metadata": {
        "colab": {
          "base_uri": "https://localhost:8080/"
        },
        "id": "shC78gsaeOyi",
        "outputId": "275747b7-3a66-4310-f5ca-4f49feb5e0da"
      },
      "execution_count": 12,
      "outputs": [
        {
          "output_type": "stream",
          "name": "stdout",
          "text": [
            "Langkah 3: Membuat elemen (2,1) dan (3,1) menjadi 0\n",
            "[[ 1.  -0.5  1.5  0.5  0.   0. ]\n",
            " [ 0.   2.5 -3.5 -0.5  1.   0. ]\n",
            " [ 0.  -1.5 -0.5 -1.5  0.   1. ]]\n",
            "\n",
            "\n"
          ]
        }
      ]
    },
    {
      "cell_type": "markdown",
      "source": [
        "### **Langkah 4: Membuat Elemen (2,2) Menjadi 1**\n",
        "Bagian tengah (2,2) sekarang adalah \\( \\frac{5}{2} \\), jadi kita bagi seluruh baris kedua dengan \\( \\frac{5}{2} \\):\n",
        "\n",
        "$$\n",
        "R_2 = \\frac{2}{5} R_2\n",
        "$$\n",
        "\n",
        "Hasilnya:\n",
        "\n",
        "\n",
        "\\begin{bmatrix}\n",
        "1  & -\\frac{1}{2}  &  \\frac{3}{2}  & |  \\frac{1}{2}  &  0  &  0  \\\\\n",
        "0  & 1  & -\\frac{7}{5}  & |  -\\frac{1}{5}  &  \\frac{2}{5}  &  0  \\\\\n",
        "0  & -\\frac{3}{2}  &  \\frac{5}{2}  & |  -\\frac{3}{2}  &  0  &  1  \n",
        "\\end{bmatrix}\n",
        "\n",
        "\n"
      ],
      "metadata": {
        "id": "TSU7XwUqePTI"
      }
    },
    {
      "cell_type": "code",
      "source": [
        "# Langkah 4: Membuat elemen (2,2) menjadi 1\n",
        "augmented[1] = augmented[1] / augmented[1, 1]\n",
        "print_matrix(\"Langkah 4: Membuat elemen (2,2) menjadi 1\", augmented)\n"
      ],
      "metadata": {
        "colab": {
          "base_uri": "https://localhost:8080/"
        },
        "id": "9d6qO18eedQw",
        "outputId": "3ee4ee39-a31d-4dc3-ff5a-0d7aa7261a47"
      },
      "execution_count": 13,
      "outputs": [
        {
          "output_type": "stream",
          "name": "stdout",
          "text": [
            "Langkah 4: Membuat elemen (2,2) menjadi 1\n",
            "[[ 1.  -0.5  1.5  0.5  0.   0. ]\n",
            " [ 0.   1.  -1.4 -0.2  0.4  0. ]\n",
            " [ 0.  -1.5 -0.5 -1.5  0.   1. ]]\n",
            "\n",
            "\n"
          ]
        }
      ]
    },
    {
      "cell_type": "markdown",
      "source": [
        "### **Langkah 5: Membuat Elemen (1,2) dan (3,2) Menjadi 0**\n",
        "Supaya hanya ada 1 di (2,2) dan nol di atas serta bawahnya, kita lakukan:\n",
        "\n",
        "$$ R_1 = R_1 + \\frac{1}{2} R_2 $$\n",
        "\n",
        "$$ R_3 = R_3 + \\frac{3}{2} R_2 $$\n",
        "\n",
        "Hasilnya:\n",
        "\n",
        "\n",
        "\\begin{bmatrix}\n",
        "1  &  0  &  \\frac{8}{5}  & |  \\frac{2}{10}  &  \\frac{1}{5}  &  0  \\\\\n",
        "0  &  1  & -\\frac{7}{5}  & |  -\\frac{1}{5}  &  \\frac{2}{5}  &  0  \\\\\n",
        "0  &  0  &  \\frac{4}{10}  & |  -\\frac{3}{10}  &  \\frac{6}{10}  &  1  \n",
        "\\end{bmatrix}\n",
        "\n"
      ],
      "metadata": {
        "id": "j5FT35-qfLWI"
      }
    },
    {
      "cell_type": "code",
      "source": [
        "# Langkah 5: Membuat elemen (1,2) dan (3,2) menjadi 0\n",
        "augmented[0] = augmented[0] - augmented[0, 1] * augmented[1]\n",
        "augmented[2] = augmented[2] - augmented[2, 1] * augmented[1]\n",
        "print_matrix(\"Langkah 5: Membuat elemen (1,2) dan (3,2) menjadi 0\", augmented)"
      ],
      "metadata": {
        "colab": {
          "base_uri": "https://localhost:8080/"
        },
        "id": "Iyw1EMpkfMAD",
        "outputId": "2706ab3c-7b38-441a-fcc1-9b2990e2c33d"
      },
      "execution_count": 14,
      "outputs": [
        {
          "output_type": "stream",
          "name": "stdout",
          "text": [
            "Langkah 5: Membuat elemen (1,2) dan (3,2) menjadi 0\n",
            "[[ 1.   0.   0.8  0.4  0.2  0. ]\n",
            " [ 0.   1.  -1.4 -0.2  0.4  0. ]\n",
            " [ 0.   0.  -2.6 -1.8  0.6  1. ]]\n",
            "\n",
            "\n"
          ]
        }
      ]
    },
    {
      "cell_type": "markdown",
      "source": [
        "\n",
        "### **Langkah 6: Membuat Elemen (3,3) Menjadi 1**\n",
        "Elemen (3,3) adalah $\\frac{4}{10}$, jadi kita bagi seluruh baris ketiga dengan $\\frac{4}{10}$:\n",
        "\n",
        "$$\n",
        "R_3 = \\frac{10}{4} R_3\n",
        "$$\n",
        "\n",
        "Hasilnya:\n",
        "\n",
        "\n",
        "\\begin{bmatrix}\n",
        "1  &  0  &  \\frac{8}{5}  & |  \\frac{2}{10}  &  \\frac{1}{5}  &  0  \\\\\n",
        "0  &  1  & -\\frac{7}{5}  & |  -\\frac{1}{5}  &  \\frac{2}{5}  &  0  \\\\\n",
        "0  &  0  &  1  & |  -\\frac{3}{8}  &  \\frac{3}{4}  &  \\frac{5}{2}  \n",
        "\\end{bmatrix}\n",
        "\n"
      ],
      "metadata": {
        "id": "2lO3PAJWfMnT"
      }
    },
    {
      "cell_type": "code",
      "source": [
        "# Langkah 6: Membuat elemen (3,3) menjadi 1\n",
        "augmented[2] = augmented[2] / augmented[2, 2]\n",
        "print_matrix(\"Langkah 6: Membuat elemen (3,3) menjadi 1\", augmented)"
      ],
      "metadata": {
        "colab": {
          "base_uri": "https://localhost:8080/"
        },
        "id": "cD-nDmo5fNEf",
        "outputId": "e94846b5-49bf-4f54-dff1-d2feaf12c6ac"
      },
      "execution_count": 15,
      "outputs": [
        {
          "output_type": "stream",
          "name": "stdout",
          "text": [
            "Langkah 6: Membuat elemen (3,3) menjadi 1\n",
            "[[ 1.          0.          0.8         0.4         0.2         0.        ]\n",
            " [ 0.          1.         -1.4        -0.2         0.4         0.        ]\n",
            " [-0.         -0.          1.          0.69230769 -0.23076923 -0.38461538]]\n",
            "\n",
            "\n"
          ]
        }
      ]
    },
    {
      "cell_type": "markdown",
      "source": [
        "### **Langkah 7: Membuat Elemen (1,3) dan (2,3) Menjadi 0**\n",
        "Supaya kolom ketiga hanya memiliki angka 1 di (3,3) dan nol di atasnya, kita lakukan:\n",
        "\n",
        "$$ R_1 = R_1 - \\frac{8}{5} R_3 $$\n",
        "\n",
        "$$ R_2 = R_2 + \\frac{7}{5} R_3 $$\n",
        "\n",
        "Hasil akhirnya:\n",
        "\n",
        "\\begin{bmatrix}\n",
        "1  &  0  &  0  & |  2  & -1  & -1  \\\\\n",
        "0  &  1  &  0  & |  3  & -2  & -1  \\\\\n",
        "0  &  0  &  1  & |  -\\frac{3}{8}  &  \\frac{3}{4}  &  \\frac{5}{2}  \n",
        "\\end{bmatrix}\n",
        "\n",
        "\n",
        "Matriks kiri sudah menjadi identitas. Matriks di sebelah kanan adalah invers dari A:\n",
        "\n",
        "\n",
        "$A^{-1}$=\n",
        "\\begin{bmatrix}\n",
        "2  & -1  & -1  \\\\\n",
        "3  & -2  & -1  \\\\\n",
        "-\\frac{3}{8}  & \\frac{3}{4}  & \\frac{5}{2}  \n",
        "\\end{bmatrix}\n"
      ],
      "metadata": {
        "id": "LeyCcYkKfNlz"
      }
    },
    {
      "cell_type": "code",
      "source": [
        "# Langkah 7: Membuat elemen (1,3) dan (2,3) menjadi 0\n",
        "augmented[0] = augmented[0] - augmented[0, 2] * augmented[2]\n",
        "augmented[1] = augmented[1] - augmented[1, 2] * augmented[2]\n",
        "print_matrix(\"Langkah 7: Membuat elemen (1,3) dan (2,3) menjadi 0\", augmented)\n",
        "\n",
        "# Hasil akhir: Matriks invers\n",
        "inverse_A = augmented[:, 3:]\n",
        "print_matrix(\"Matriks Invers A\", inverse_A)"
      ],
      "metadata": {
        "colab": {
          "base_uri": "https://localhost:8080/"
        },
        "id": "Vv87MOxIfOGX",
        "outputId": "d2973c40-2a3e-4c8e-e4bc-f998d465af02"
      },
      "execution_count": 16,
      "outputs": [
        {
          "output_type": "stream",
          "name": "stdout",
          "text": [
            "Langkah 7: Membuat elemen (1,3) dan (2,3) menjadi 0\n",
            "[[ 1.          0.          0.         -0.15384615  0.38461538  0.30769231]\n",
            " [ 0.          1.          0.          0.76923077  0.07692308 -0.53846154]\n",
            " [-0.         -0.          1.          0.69230769 -0.23076923 -0.38461538]]\n",
            "\n",
            "\n",
            "Matriks Invers A\n",
            "[[-0.15384615  0.38461538  0.30769231]\n",
            " [ 0.76923077  0.07692308 -0.53846154]\n",
            " [ 0.69230769 -0.23076923 -0.38461538]]\n",
            "\n",
            "\n"
          ]
        }
      ]
    }
  ]
}